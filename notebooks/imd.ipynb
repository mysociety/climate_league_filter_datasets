{
 "cells": [
  {
   "cell_type": "code",
   "execution_count": 16,
   "metadata": {},
   "outputs": [],
   "source": [
    "#HIDE\n",
    "try:\n",
    "    import setup\n",
    "except:\n",
    "    pass\n",
    "from notebook_helper import *\n",
    "notebook_setup()\n",
    "from modules import la"
   ]
  },
  {
   "cell_type": "markdown",
   "metadata": {},
   "source": [
    "# Index of Multiple deprivation approach\n",
    "\n",
    "This creates a basic score for each local authority based on the overall deprivation score for an authority. \n",
    "\n",
    "This uses a GB wide approach as Northern Ireland councils do not overlap in the same table. It calculates population quintiles, so the number is not exactly even. \n",
    "\n",
    "This is based on the [composite 2020 IMD scoring](https://github.com/mysociety/composite_uk_imd), in turn based on each national IMD ranking.\n",
    "\n",
    "In this end this generated two possible sets of groupings. One where all lower-tier authorities were combined into a single ranking, and another where both leagues have seperate groupings. "
   ]
  },
  {
   "cell_type": "code",
   "execution_count": 17,
   "metadata": {},
   "outputs": [
    {
     "data": {
      "text/html": [
       "<style  type=\"text/css\" >\n",
       "</style><table id=\"T_e29ee_\" ><thead>    <tr>        <th class=\"index_name level0\" >la_imd_pop_quintile</th>        <th class=\"col_heading level0 col0\" >1</th>        <th class=\"col_heading level0 col1\" >2</th>        <th class=\"col_heading level0 col2\" >3</th>        <th class=\"col_heading level0 col3\" >4</th>        <th class=\"col_heading level0 col4\" >5</th>    </tr></thead><tbody>\n",
       "                <tr>\n",
       "                        <th id=\"T_e29ee_level0_row0\" class=\"row_heading level0 row0\" >local-authority-code</th>\n",
       "                        <td id=\"T_e29ee_row0_col0\" class=\"data row0 col0\" >15%</td>\n",
       "                        <td id=\"T_e29ee_row0_col1\" class=\"data row0 col1\" >14%</td>\n",
       "                        <td id=\"T_e29ee_row0_col2\" class=\"data row0 col2\" >22%</td>\n",
       "                        <td id=\"T_e29ee_row0_col3\" class=\"data row0 col3\" >21%</td>\n",
       "                        <td id=\"T_e29ee_row0_col4\" class=\"data row0 col4\" >27%</td>\n",
       "            </tr>\n",
       "    </tbody></table>"
      ],
      "text/plain": [
       "<pandas.io.formats.style.Styler at 0x7fccb2aafc40>"
      ]
     },
     "execution_count": 17,
     "metadata": {},
     "output_type": "execute_result"
    }
   ],
   "source": [
    "\n",
    "df = pd.read_csv(Path(\"data\", \"source\", \"GB_IMD_E.csv\")).set_index(\"lsoa\")\n",
    "pop = pd.read_csv(Path(\"data\", \"source\", \"2019_population.csv\"),\n",
    "                  thousands=\",\").set_index(\"lsoa\")\n",
    "lookup = pd.read_csv(\n",
    "    Path(\"data\", \"source\", \"lsoa_la_2021.csv\")).set_index(\"lsoa\")\n",
    "\n",
    "df = df.join(pop, how=\"outer\").join(lookup, how=\"outer\")\n",
    "df = df[~df[\"nation\"].isna()] # exclude NI\n",
    "\n",
    "# create a population adjusted score\n",
    "df[\"pop_score\"] = df[\"GB_IMD_E_score\"] * df[\"pop\"]\n",
    "\n",
    "# pivot up to the local authority level\n",
    "df = df.pivot_table([\"pop_score\", \"pop\"],\n",
    "                    index=\"local-authority-code\", aggfunc=\"sum\")\n",
    "\n",
    "\n",
    "def calculate_deciles(df):\n",
    "\n",
    "    # calculate a new score, dividing the summed score by the summed population\n",
    "    df[\"la_deprivation_score\"] = df[\"pop_score\"] / df[\"pop\"]\n",
    "    df = df.sort_values(\"la_deprivation_score\", ascending=False)\n",
    "\n",
    "    df[\"cum_pop\"] = df[\"pop\"].astype(\"int\").cumsum()\n",
    "\n",
    "    df[\"la_imd_pop_decile\"] = np.ceil(\n",
    "        df[\"cum_pop\"]/sum(df[\"pop\"]) * 10).astype(int)\n",
    "    df[\"la_imd_pop_quintile\"] = np.ceil(\n",
    "        df[\"cum_pop\"]/sum(df[\"pop\"]) * 5).astype(int)\n",
    "\n",
    "    df = df.drop(columns=[\"cum_pop\"])\n",
    "    return df\n",
    "\n",
    "df = calculate_deciles(df)\n",
    "\n",
    "#df = df.drop(columns=[\"pop\", \"pop_score\"])\n",
    "\n",
    "(df\n",
    " .reset_index()\n",
    " .pivot_table(\"local-authority-code\", columns=\"la_imd_pop_quintile\", aggfunc=\"count\")\n",
    " .fillna(0)\n",
    " .astype(int)\n",
    " .common.row_percentages()\n",
    " .style.format(percentage_0dp))\n"
   ]
  },
  {
   "cell_type": "markdown",
   "metadata": {},
   "source": [
    "The number of councils is not even because more deprived councils are also more populus, so more of the population living in a deprived area lives in a smaller set of councils. "
   ]
  },
  {
   "cell_type": "markdown",
   "metadata": {},
   "source": [
    "### Distribution as row percentages"
   ]
  },
  {
   "cell_type": "code",
   "execution_count": 18,
   "metadata": {},
   "outputs": [
    {
     "data": {
      "text/html": [
       "<style  type=\"text/css\" >\n",
       "</style><table id=\"T_1e5aa_\" ><thead>    <tr>        <th class=\"index_name level0\" >la_imd_pop_quintile</th>        <th class=\"col_heading level0 col0\" >1.0</th>        <th class=\"col_heading level0 col1\" >2.0</th>        <th class=\"col_heading level0 col2\" >3.0</th>        <th class=\"col_heading level0 col3\" >4.0</th>        <th class=\"col_heading level0 col4\" >5.0</th>    </tr>    <tr>        <th class=\"index_name level0\" >league-group</th>        <th class=\"blank\" ></th>        <th class=\"blank\" ></th>        <th class=\"blank\" ></th>        <th class=\"blank\" ></th>        <th class=\"blank\" ></th>    </tr></thead><tbody>\n",
       "                <tr>\n",
       "                        <th id=\"T_1e5aa_level0_row0\" class=\"row_heading level0 row0\" >District councils</th>\n",
       "                        <td id=\"T_1e5aa_row0_col0\" class=\"data row0 col0\" >6%</td>\n",
       "                        <td id=\"T_1e5aa_row0_col1\" class=\"data row0 col1\" >6%</td>\n",
       "                        <td id=\"T_1e5aa_row0_col2\" class=\"data row0 col2\" >22%</td>\n",
       "                        <td id=\"T_1e5aa_row0_col3\" class=\"data row0 col3\" >25%</td>\n",
       "                        <td id=\"T_1e5aa_row0_col4\" class=\"data row0 col4\" >42%</td>\n",
       "            </tr>\n",
       "            <tr>\n",
       "                        <th id=\"T_1e5aa_level0_row1\" class=\"row_heading level0 row1\" >Single tier</th>\n",
       "                        <td id=\"T_1e5aa_row1_col0\" class=\"data row1 col0\" >24%</td>\n",
       "                        <td id=\"T_1e5aa_row1_col1\" class=\"data row1 col1\" >23%</td>\n",
       "                        <td id=\"T_1e5aa_row1_col2\" class=\"data row1 col2\" >23%</td>\n",
       "                        <td id=\"T_1e5aa_row1_col3\" class=\"data row1 col3\" >18%</td>\n",
       "                        <td id=\"T_1e5aa_row1_col4\" class=\"data row1 col4\" >12%</td>\n",
       "            </tr>\n",
       "    </tbody></table>"
      ],
      "text/plain": [
       "<pandas.io.formats.style.Styler at 0x7fccb2aaf2b0>"
      ]
     },
     "execution_count": 18,
     "metadata": {},
     "output_type": "execute_result"
    }
   ],
   "source": [
    "ldf = la.get_la_with_leagues().set_index(\"local-authority-code\")\n",
    "ldf = ldf.join(df, how=\"outer\")\n",
    "\n",
    "(ldf\n",
    " .reset_index()\n",
    " .pivot_table(\"local-authority-code\", index=\"league-group\", columns=\"la_imd_pop_quintile\", aggfunc=\"count\")\n",
    " .fillna(0)\n",
    " .astype(int)\n",
    " .common.row_percentages()\n",
    " .style.format(percentage_0dp))\n"
   ]
  },
  {
   "cell_type": "markdown",
   "metadata": {},
   "source": [
    "### Distribution in number of councils"
   ]
  },
  {
   "cell_type": "code",
   "execution_count": 19,
   "metadata": {},
   "outputs": [
    {
     "data": {
      "text/html": [
       "<div>\n",
       "<style scoped>\n",
       "    .dataframe tbody tr th:only-of-type {\n",
       "        vertical-align: middle;\n",
       "    }\n",
       "\n",
       "    .dataframe tbody tr th {\n",
       "        vertical-align: top;\n",
       "    }\n",
       "\n",
       "    .dataframe thead th {\n",
       "        text-align: right;\n",
       "    }\n",
       "</style>\n",
       "<table border=\"1\" class=\"dataframe\">\n",
       "  <thead>\n",
       "    <tr style=\"text-align: right;\">\n",
       "      <th>la_imd_pop_quintile</th>\n",
       "      <th>1.0</th>\n",
       "      <th>2.0</th>\n",
       "      <th>3.0</th>\n",
       "      <th>4.0</th>\n",
       "      <th>5.0</th>\n",
       "    </tr>\n",
       "    <tr>\n",
       "      <th>league-group</th>\n",
       "      <th></th>\n",
       "      <th></th>\n",
       "      <th></th>\n",
       "      <th></th>\n",
       "      <th></th>\n",
       "    </tr>\n",
       "  </thead>\n",
       "  <tbody>\n",
       "    <tr>\n",
       "      <th>District councils</th>\n",
       "      <td>11</td>\n",
       "      <td>10</td>\n",
       "      <td>39</td>\n",
       "      <td>45</td>\n",
       "      <td>76</td>\n",
       "    </tr>\n",
       "    <tr>\n",
       "      <th>Single tier</th>\n",
       "      <td>44</td>\n",
       "      <td>42</td>\n",
       "      <td>42</td>\n",
       "      <td>32</td>\n",
       "      <td>22</td>\n",
       "    </tr>\n",
       "  </tbody>\n",
       "</table>\n",
       "</div>"
      ],
      "text/plain": [
       "la_imd_pop_quintile  1.0  2.0  3.0  4.0  5.0\n",
       "league-group                                \n",
       "District councils     11   10   39   45   76\n",
       "Single tier           44   42   42   32   22"
      ]
     },
     "execution_count": 19,
     "metadata": {},
     "output_type": "execute_result"
    }
   ],
   "source": [
    "(ldf\n",
    " .reset_index()\n",
    " .pivot_table(\"local-authority-code\", index=\"league-group\", columns=\"la_imd_pop_quintile\", aggfunc=\"count\")\n",
    " .fillna(0)\n",
    " .astype(int))"
   ]
  },
  {
   "cell_type": "markdown",
   "metadata": {},
   "source": [
    "The above tables shows the distribution of a *single* league over both district and single tiers.\n",
    "\n",
    "The alternative approach would be to calculate the distribution for two different sets of quintiles."
   ]
  },
  {
   "cell_type": "code",
   "execution_count": 20,
   "metadata": {},
   "outputs": [],
   "source": [
    "final = ldf[[\"league-group\", \"la_imd_pop_quintile\"]].reset_index()\n",
    "final = final[~final[\"la_imd_pop_quintile\"].isna()]\n",
    "final.to_csv(Path(\"data\", \"outputs\", \"imd_joint_ranking.csv\"), index=False)"
   ]
  },
  {
   "cell_type": "code",
   "execution_count": 21,
   "metadata": {},
   "outputs": [],
   "source": [
    "ldf = la.get_la_with_leagues().set_index(\"local-authority-code\")\n",
    "ldf = ldf.join(df, how=\"outer\")\n",
    "\n",
    "def calculate_deciles(df):\n",
    "    # calculate a new score, dividing the summed score by the summed population\n",
    "    df[\"la_deprivation_score\"] = df[\"pop_score\"] / df[\"pop\"]\n",
    "    df = df.sort_values(\"la_deprivation_score\", ascending=False)\n",
    "\n",
    "    df[\"cum_pop\"] = df[\"pop\"].astype(\"int\").cumsum()\n",
    "\n",
    "    df[\"la_imd_pop_decile\"] = np.ceil(\n",
    "        df[\"cum_pop\"]/sum(df[\"pop\"]) * 10).astype(int)\n",
    "    df[\"la_imd_pop_quintile\"] = np.ceil(\n",
    "        df[\"cum_pop\"]/sum(df[\"pop\"]) * 5).astype(int)\n",
    "\n",
    "    df = df.drop(columns=[\"cum_pop\"])\n",
    "    return df\n",
    "\n",
    "ldf = ldf[ldf[\"league-group\"].isin([\"District councils\", \"Single tier\"])]\n",
    "ldf = ldf.groupby(\"league-group\", as_index=False).apply(calculate_deciles).reset_index()\n"
   ]
  },
  {
   "cell_type": "code",
   "execution_count": 22,
   "metadata": {},
   "outputs": [
    {
     "data": {
      "text/html": [
       "<style  type=\"text/css\" >\n",
       "</style><table id=\"T_90045_\" ><thead>    <tr>        <th class=\"index_name level0\" >la_imd_pop_quintile</th>        <th class=\"col_heading level0 col0\" >1</th>        <th class=\"col_heading level0 col1\" >2</th>        <th class=\"col_heading level0 col2\" >3</th>        <th class=\"col_heading level0 col3\" >4</th>        <th class=\"col_heading level0 col4\" >5</th>    </tr>    <tr>        <th class=\"index_name level0\" >league-group</th>        <th class=\"blank\" ></th>        <th class=\"blank\" ></th>        <th class=\"blank\" ></th>        <th class=\"blank\" ></th>        <th class=\"blank\" ></th>    </tr></thead><tbody>\n",
       "                <tr>\n",
       "                        <th id=\"T_90045_level0_row0\" class=\"row_heading level0 row0\" >District councils</th>\n",
       "                        <td id=\"T_90045_row0_col0\" class=\"data row0 col0\" >20%</td>\n",
       "                        <td id=\"T_90045_row0_col1\" class=\"data row0 col1\" >20%</td>\n",
       "                        <td id=\"T_90045_row0_col2\" class=\"data row0 col2\" >20%</td>\n",
       "                        <td id=\"T_90045_row0_col3\" class=\"data row0 col3\" >19%</td>\n",
       "                        <td id=\"T_90045_row0_col4\" class=\"data row0 col4\" >20%</td>\n",
       "            </tr>\n",
       "            <tr>\n",
       "                        <th id=\"T_90045_level0_row1\" class=\"row_heading level0 row1\" >Single tier</th>\n",
       "                        <td id=\"T_90045_row1_col0\" class=\"data row1 col0\" >17%</td>\n",
       "                        <td id=\"T_90045_row1_col1\" class=\"data row1 col1\" >19%</td>\n",
       "                        <td id=\"T_90045_row1_col2\" class=\"data row1 col2\" >19%</td>\n",
       "                        <td id=\"T_90045_row1_col3\" class=\"data row1 col3\" >23%</td>\n",
       "                        <td id=\"T_90045_row1_col4\" class=\"data row1 col4\" >23%</td>\n",
       "            </tr>\n",
       "    </tbody></table>"
      ],
      "text/plain": [
       "<pandas.io.formats.style.Styler at 0x7fcd18759760>"
      ]
     },
     "execution_count": 22,
     "metadata": {},
     "output_type": "execute_result"
    }
   ],
   "source": [
    "(ldf\n",
    " .reset_index()\n",
    " .pivot_table(\"local-authority-code\", index=\"league-group\", columns=\"la_imd_pop_quintile\", aggfunc=\"count\")\n",
    " .fillna(0)\n",
    " .astype(int)\n",
    " .common.row_percentages()\n",
    " .style.format(percentage_0dp))\n"
   ]
  },
  {
   "cell_type": "code",
   "execution_count": 23,
   "metadata": {},
   "outputs": [
    {
     "data": {
      "text/html": [
       "<div>\n",
       "<style scoped>\n",
       "    .dataframe tbody tr th:only-of-type {\n",
       "        vertical-align: middle;\n",
       "    }\n",
       "\n",
       "    .dataframe tbody tr th {\n",
       "        vertical-align: top;\n",
       "    }\n",
       "\n",
       "    .dataframe thead th {\n",
       "        text-align: right;\n",
       "    }\n",
       "</style>\n",
       "<table border=\"1\" class=\"dataframe\">\n",
       "  <thead>\n",
       "    <tr style=\"text-align: right;\">\n",
       "      <th>la_imd_pop_quintile</th>\n",
       "      <th>1</th>\n",
       "      <th>2</th>\n",
       "      <th>3</th>\n",
       "      <th>4</th>\n",
       "      <th>5</th>\n",
       "    </tr>\n",
       "    <tr>\n",
       "      <th>league-group</th>\n",
       "      <th></th>\n",
       "      <th></th>\n",
       "      <th></th>\n",
       "      <th></th>\n",
       "      <th></th>\n",
       "    </tr>\n",
       "  </thead>\n",
       "  <tbody>\n",
       "    <tr>\n",
       "      <th>District councils</th>\n",
       "      <td>37</td>\n",
       "      <td>37</td>\n",
       "      <td>36</td>\n",
       "      <td>35</td>\n",
       "      <td>36</td>\n",
       "    </tr>\n",
       "    <tr>\n",
       "      <th>Single tier</th>\n",
       "      <td>31</td>\n",
       "      <td>34</td>\n",
       "      <td>34</td>\n",
       "      <td>41</td>\n",
       "      <td>42</td>\n",
       "    </tr>\n",
       "  </tbody>\n",
       "</table>\n",
       "</div>"
      ],
      "text/plain": [
       "la_imd_pop_quintile   1   2   3   4   5\n",
       "league-group                           \n",
       "District councils    37  37  36  35  36\n",
       "Single tier          31  34  34  41  42"
      ]
     },
     "execution_count": 23,
     "metadata": {},
     "output_type": "execute_result"
    }
   ],
   "source": [
    "(ldf\n",
    " .reset_index()\n",
    " .pivot_table(\"local-authority-code\", index=\"league-group\", columns=\"la_imd_pop_quintile\", aggfunc=\"count\")\n",
    " .fillna(0)\n",
    " .astype(int))"
   ]
  },
  {
   "cell_type": "markdown",
   "metadata": {},
   "source": [
    "Undecided on which of these is better. This gives more even buckets, but by knocking the other set of councils (and the people who live there) out of the respective rankings, it brings some councils who wouldn't otherwise be similar directly into comparison. \n",
    "\n",
    "Leave this as a question to be resolved later and export two sets of csvs."
   ]
  },
  {
   "cell_type": "code",
   "execution_count": 24,
   "metadata": {},
   "outputs": [],
   "source": [
    "final = ldf[[\"local-authority-code\", \"league-group\", \"la_imd_pop_quintile\"]]\n",
    "final = final[~final[\"la_imd_pop_quintile\"].isna()]\n",
    "final.to_csv(Path(\"data\", \"outputs\", \"imd_split_ranking.csv\"), index=False)"
   ]
  }
 ],
 "metadata": {
  "interpreter": {
   "hash": "949777d72b0d2535278d3dc13498b2535136f6dfe0678499012e853ee9abcab1"
  },
  "kernelspec": {
   "display_name": "Python 3.8.12 64-bit",
   "language": "python",
   "name": "python3"
  },
  "language_info": {
   "codemirror_mode": {
    "name": "ipython",
    "version": 3
   },
   "file_extension": ".py",
   "mimetype": "text/x-python",
   "name": "python",
   "nbconvert_exporter": "python",
   "pygments_lexer": "ipython3",
   "version": "3.8.12"
  },
  "orig_nbformat": 4
 },
 "nbformat": 4,
 "nbformat_minor": 2
}
