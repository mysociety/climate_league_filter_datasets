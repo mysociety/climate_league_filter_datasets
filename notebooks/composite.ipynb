{
 "cells": [
  {
   "cell_type": "code",
   "execution_count": 1,
   "metadata": {},
   "outputs": [],
   "source": [
    "#HIDE\n",
    "try:\n",
    "    import setup\n",
    "except:\n",
    "    pass\n",
    "from notebook_helper import *\n",
    "notebook_setup()"
   ]
  },
  {
   "cell_type": "code",
   "execution_count": 9,
   "metadata": {},
   "outputs": [],
   "source": [
    "files = [\"imd_v3.csv\",\"pop_buckets.csv\", \"region_type.csv\", \"ruc_cluster.csv\", \"political_control.csv\"]\n",
    "\n",
    "paths = [Path(\"data\", \"outputs\", f) for f in files]\n",
    "dfs = [pd.read_csv(p).set_index(\"local-authority-code\") for p in paths]\n"
   ]
  },
  {
   "cell_type": "code",
   "execution_count": 12,
   "metadata": {},
   "outputs": [],
   "source": [
    "\n",
    "df = dfs[0]\n",
    "for d in dfs[1:]:\n",
    "\n",
    "    good_columns = [x for x in d.columns if x not in df.columns]\n",
    "    d = d[good_columns]\n",
    "    df = df.join(d, how=\"outer\")\n",
    "\n",
    "df = df.drop(columns=[\"league-group\", \"official-name\", \"pop-2020\"])\n",
    "df.to_csv(Path(\"data\", \"outputs\", \"all_filters.csv\"))"
   ]
  }
 ],
 "metadata": {
  "interpreter": {
   "hash": "949777d72b0d2535278d3dc13498b2535136f6dfe0678499012e853ee9abcab1"
  },
  "kernelspec": {
   "display_name": "Python 3.8.12 64-bit",
   "language": "python",
   "name": "python3"
  },
  "language_info": {
   "codemirror_mode": {
    "name": "ipython",
    "version": 3
   },
   "file_extension": ".py",
   "mimetype": "text/x-python",
   "name": "python",
   "nbconvert_exporter": "python",
   "pygments_lexer": "ipython3",
   "version": "3.8.12"
  },
  "orig_nbformat": 4
 },
 "nbformat": 4,
 "nbformat_minor": 2
}
