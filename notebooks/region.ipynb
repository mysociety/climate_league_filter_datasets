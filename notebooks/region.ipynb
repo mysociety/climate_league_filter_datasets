{
 "cells": [
  {
   "cell_type": "code",
   "execution_count": 1,
   "metadata": {},
   "outputs": [],
   "source": [
    "#HIDE\n",
    "try:\n",
    "    import setup\n",
    "except:\n",
    "    pass\n",
    "from notebook_helper import *\n",
    "notebook_setup()\n",
    "from modules.la import get_la_df, get_la_with_leagues"
   ]
  },
  {
   "cell_type": "code",
   "execution_count": 2,
   "metadata": {},
   "outputs": [],
   "source": [
    "df = get_la_with_leagues()"
   ]
  },
  {
   "cell_type": "markdown",
   "metadata": {},
   "source": [
    "# Region and authority type\n",
    "\n",
    "This notebook describes and creates the lookups by league for region and authority type. "
   ]
  },
  {
   "cell_type": "markdown",
   "metadata": {},
   "source": [
    "## How many councils in each league?"
   ]
  },
  {
   "cell_type": "code",
   "execution_count": 3,
   "metadata": {},
   "outputs": [
    {
     "data": {
      "text/html": [
       "<style  type=\"text/css\" >\n",
       "</style><table id=\"T_d5d99_\" ><thead>    <tr>        <th class=\"col_heading level0 col0\" >League Group</th>        <th class=\"col_heading level0 col1\" >Councils</th>    </tr></thead><tbody>\n",
       "                <tr>\n",
       "                                <td id=\"T_d5d99_row0_col0\" class=\"data row0 col0\" >Combined/strategic authorities</td>\n",
       "                        <td id=\"T_d5d99_row0_col1\" class=\"data row0 col1\" >11</td>\n",
       "            </tr>\n",
       "            <tr>\n",
       "                                <td id=\"T_d5d99_row1_col0\" class=\"data row1 col0\" >Northern Ireland</td>\n",
       "                        <td id=\"T_d5d99_row1_col1\" class=\"data row1 col1\" >11</td>\n",
       "            </tr>\n",
       "            <tr>\n",
       "                                <td id=\"T_d5d99_row2_col0\" class=\"data row2 col0\" >County councils</td>\n",
       "                        <td id=\"T_d5d99_row2_col1\" class=\"data row2 col1\" >24</td>\n",
       "            </tr>\n",
       "            <tr>\n",
       "                                <td id=\"T_d5d99_row3_col0\" class=\"data row3 col0\" >District councils</td>\n",
       "                        <td id=\"T_d5d99_row3_col1\" class=\"data row3 col1\" >181</td>\n",
       "            </tr>\n",
       "            <tr>\n",
       "                                <td id=\"T_d5d99_row4_col0\" class=\"data row4 col0\" >Single tier</td>\n",
       "                        <td id=\"T_d5d99_row4_col1\" class=\"data row4 col1\" >182</td>\n",
       "            </tr>\n",
       "    </tbody></table>"
      ],
      "text/plain": [
       "<pandas.io.formats.style.Styler at 0x7f5e36dce850>"
      ]
     },
     "execution_count": 3,
     "metadata": {},
     "output_type": "execute_result"
    }
   ],
   "source": [
    "(df\n",
    ".pivot_table(\"local-authority-code\", index=\"league-group\" ,aggfunc=\"count\")\n",
    ".rename_axis(None, axis='columns')\n",
    ".rename_axis(\"League Group\", axis='rows')\n",
    ".rename(columns={\"local-authority-code\": \"Councils\"})\n",
    ".sort_values(\"Councils\")\n",
    ".reset_index()\n",
    ".style.hide_index()\n",
    ")\n"
   ]
  },
  {
   "cell_type": "markdown",
   "metadata": {},
   "source": [
    "## How many councils are in each region in each league?"
   ]
  },
  {
   "cell_type": "code",
   "execution_count": 4,
   "metadata": {},
   "outputs": [
    {
     "data": {
      "text/html": [
       "<style  type=\"text/css\" >\n",
       "</style><table id=\"T_43468_\" ><thead>    <tr>        <th class=\"col_heading level0 col0\" >Region</th>        <th class=\"col_heading level0 col1\" >Combined/strategic authorities</th>        <th class=\"col_heading level0 col2\" >County councils</th>        <th class=\"col_heading level0 col3\" >District councils</th>        <th class=\"col_heading level0 col4\" >Northern Ireland</th>        <th class=\"col_heading level0 col5\" >Single tier</th>    </tr></thead><tbody>\n",
       "                <tr>\n",
       "                                <td id=\"T_43468_row0_col0\" class=\"data row0 col0\" >East</td>\n",
       "                        <td id=\"T_43468_row0_col1\" class=\"data row0 col1\" >1</td>\n",
       "                        <td id=\"T_43468_row0_col2\" class=\"data row0 col2\" >0</td>\n",
       "                        <td id=\"T_43468_row0_col3\" class=\"data row0 col3\" >0</td>\n",
       "                        <td id=\"T_43468_row0_col4\" class=\"data row0 col4\" >0</td>\n",
       "                        <td id=\"T_43468_row0_col5\" class=\"data row0 col5\" >0</td>\n",
       "            </tr>\n",
       "            <tr>\n",
       "                                <td id=\"T_43468_row1_col0\" class=\"data row1 col0\" >East Midlands</td>\n",
       "                        <td id=\"T_43468_row1_col1\" class=\"data row1 col1\" >0</td>\n",
       "                        <td id=\"T_43468_row1_col2\" class=\"data row1 col2\" >2</td>\n",
       "                        <td id=\"T_43468_row1_col3\" class=\"data row1 col3\" >29</td>\n",
       "                        <td id=\"T_43468_row1_col4\" class=\"data row1 col4\" >0</td>\n",
       "                        <td id=\"T_43468_row1_col5\" class=\"data row1 col5\" >6</td>\n",
       "            </tr>\n",
       "            <tr>\n",
       "                                <td id=\"T_43468_row2_col0\" class=\"data row2 col0\" >East of England</td>\n",
       "                        <td id=\"T_43468_row2_col1\" class=\"data row2 col1\" >0</td>\n",
       "                        <td id=\"T_43468_row2_col2\" class=\"data row2 col2\" >5</td>\n",
       "                        <td id=\"T_43468_row2_col3\" class=\"data row2 col3\" >39</td>\n",
       "                        <td id=\"T_43468_row2_col4\" class=\"data row2 col4\" >0</td>\n",
       "                        <td id=\"T_43468_row2_col5\" class=\"data row2 col5\" >6</td>\n",
       "            </tr>\n",
       "            <tr>\n",
       "                                <td id=\"T_43468_row3_col0\" class=\"data row3 col0\" >London</td>\n",
       "                        <td id=\"T_43468_row3_col1\" class=\"data row3 col1\" >1</td>\n",
       "                        <td id=\"T_43468_row3_col2\" class=\"data row3 col2\" >0</td>\n",
       "                        <td id=\"T_43468_row3_col3\" class=\"data row3 col3\" >0</td>\n",
       "                        <td id=\"T_43468_row3_col4\" class=\"data row3 col4\" >0</td>\n",
       "                        <td id=\"T_43468_row3_col5\" class=\"data row3 col5\" >33</td>\n",
       "            </tr>\n",
       "            <tr>\n",
       "                                <td id=\"T_43468_row4_col0\" class=\"data row4 col0\" >North East</td>\n",
       "                        <td id=\"T_43468_row4_col1\" class=\"data row4 col1\" >3</td>\n",
       "                        <td id=\"T_43468_row4_col2\" class=\"data row4 col2\" >0</td>\n",
       "                        <td id=\"T_43468_row4_col3\" class=\"data row4 col3\" >0</td>\n",
       "                        <td id=\"T_43468_row4_col4\" class=\"data row4 col4\" >0</td>\n",
       "                        <td id=\"T_43468_row4_col5\" class=\"data row4 col5\" >12</td>\n",
       "            </tr>\n",
       "            <tr>\n",
       "                                <td id=\"T_43468_row5_col0\" class=\"data row5 col0\" >North West</td>\n",
       "                        <td id=\"T_43468_row5_col1\" class=\"data row5 col1\" >2</td>\n",
       "                        <td id=\"T_43468_row5_col2\" class=\"data row5 col2\" >2</td>\n",
       "                        <td id=\"T_43468_row5_col3\" class=\"data row5 col3\" >18</td>\n",
       "                        <td id=\"T_43468_row5_col4\" class=\"data row5 col4\" >0</td>\n",
       "                        <td id=\"T_43468_row5_col5\" class=\"data row5 col5\" >21</td>\n",
       "            </tr>\n",
       "            <tr>\n",
       "                                <td id=\"T_43468_row6_col0\" class=\"data row6 col0\" >Northern Ireland</td>\n",
       "                        <td id=\"T_43468_row6_col1\" class=\"data row6 col1\" >0</td>\n",
       "                        <td id=\"T_43468_row6_col2\" class=\"data row6 col2\" >0</td>\n",
       "                        <td id=\"T_43468_row6_col3\" class=\"data row6 col3\" >0</td>\n",
       "                        <td id=\"T_43468_row6_col4\" class=\"data row6 col4\" >11</td>\n",
       "                        <td id=\"T_43468_row6_col5\" class=\"data row6 col5\" >0</td>\n",
       "            </tr>\n",
       "            <tr>\n",
       "                                <td id=\"T_43468_row7_col0\" class=\"data row7 col0\" >Scotland</td>\n",
       "                        <td id=\"T_43468_row7_col1\" class=\"data row7 col1\" >0</td>\n",
       "                        <td id=\"T_43468_row7_col2\" class=\"data row7 col2\" >0</td>\n",
       "                        <td id=\"T_43468_row7_col3\" class=\"data row7 col3\" >0</td>\n",
       "                        <td id=\"T_43468_row7_col4\" class=\"data row7 col4\" >0</td>\n",
       "                        <td id=\"T_43468_row7_col5\" class=\"data row7 col5\" >32</td>\n",
       "            </tr>\n",
       "            <tr>\n",
       "                                <td id=\"T_43468_row8_col0\" class=\"data row8 col0\" >South East</td>\n",
       "                        <td id=\"T_43468_row8_col1\" class=\"data row8 col1\" >0</td>\n",
       "                        <td id=\"T_43468_row8_col2\" class=\"data row8 col2\" >6</td>\n",
       "                        <td id=\"T_43468_row8_col3\" class=\"data row8 col3\" >51</td>\n",
       "                        <td id=\"T_43468_row8_col4\" class=\"data row8 col4\" >0</td>\n",
       "                        <td id=\"T_43468_row8_col5\" class=\"data row8 col5\" >13</td>\n",
       "            </tr>\n",
       "            <tr>\n",
       "                                <td id=\"T_43468_row9_col0\" class=\"data row9 col0\" >South West</td>\n",
       "                        <td id=\"T_43468_row9_col1\" class=\"data row9 col1\" >1</td>\n",
       "                        <td id=\"T_43468_row9_col2\" class=\"data row9 col2\" >3</td>\n",
       "                        <td id=\"T_43468_row9_col3\" class=\"data row9 col3\" >18</td>\n",
       "                        <td id=\"T_43468_row9_col4\" class=\"data row9 col4\" >0</td>\n",
       "                        <td id=\"T_43468_row9_col5\" class=\"data row9 col5\" >12</td>\n",
       "            </tr>\n",
       "            <tr>\n",
       "                                <td id=\"T_43468_row10_col0\" class=\"data row10 col0\" >Wales</td>\n",
       "                        <td id=\"T_43468_row10_col1\" class=\"data row10 col1\" >0</td>\n",
       "                        <td id=\"T_43468_row10_col2\" class=\"data row10 col2\" >0</td>\n",
       "                        <td id=\"T_43468_row10_col3\" class=\"data row10 col3\" >0</td>\n",
       "                        <td id=\"T_43468_row10_col4\" class=\"data row10 col4\" >0</td>\n",
       "                        <td id=\"T_43468_row10_col5\" class=\"data row10 col5\" >22</td>\n",
       "            </tr>\n",
       "            <tr>\n",
       "                                <td id=\"T_43468_row11_col0\" class=\"data row11 col0\" >West Midlands</td>\n",
       "                        <td id=\"T_43468_row11_col1\" class=\"data row11 col1\" >1</td>\n",
       "                        <td id=\"T_43468_row11_col2\" class=\"data row11 col2\" >4</td>\n",
       "                        <td id=\"T_43468_row11_col3\" class=\"data row11 col3\" >19</td>\n",
       "                        <td id=\"T_43468_row11_col4\" class=\"data row11 col4\" >0</td>\n",
       "                        <td id=\"T_43468_row11_col5\" class=\"data row11 col5\" >11</td>\n",
       "            </tr>\n",
       "            <tr>\n",
       "                                <td id=\"T_43468_row12_col0\" class=\"data row12 col0\" >Yorkshire and The Humber</td>\n",
       "                        <td id=\"T_43468_row12_col1\" class=\"data row12 col1\" >2</td>\n",
       "                        <td id=\"T_43468_row12_col2\" class=\"data row12 col2\" >2</td>\n",
       "                        <td id=\"T_43468_row12_col3\" class=\"data row12 col3\" >7</td>\n",
       "                        <td id=\"T_43468_row12_col4\" class=\"data row12 col4\" >0</td>\n",
       "                        <td id=\"T_43468_row12_col5\" class=\"data row12 col5\" >14</td>\n",
       "            </tr>\n",
       "    </tbody></table>"
      ],
      "text/plain": [
       "<pandas.io.formats.style.Styler at 0x7f5e36cef880>"
      ]
     },
     "execution_count": 4,
     "metadata": {},
     "output_type": "execute_result"
    }
   ],
   "source": [
    "(df\n",
    ".pivot_table(\"local-authority-code\", index=\"region\", columns=\"league-group\",aggfunc=\"count\")\n",
    ".fillna(0)\n",
    ".astype(int)\n",
    ".rename_axis(None, axis='columns')\n",
    ".rename_axis(\"Region\", axis='rows')\n",
    ".reset_index()\n",
    ".style.hide_index())"
   ]
  },
  {
   "cell_type": "markdown",
   "metadata": {},
   "source": [
    "Analysis: No single league contains all regions. All leagues except Northern Ireland contain multiple regions. "
   ]
  },
  {
   "cell_type": "markdown",
   "metadata": {},
   "source": [
    "## How many council types are in each region in each league?"
   ]
  },
  {
   "cell_type": "code",
   "execution_count": 5,
   "metadata": {},
   "outputs": [
    {
     "data": {
      "text/html": [
       "<style  type=\"text/css\" >\n",
       "</style><table id=\"T_a38d1_\" ><thead>    <tr>        <th class=\"col_heading level0 col0\" >Authority type</th>        <th class=\"col_heading level0 col1\" >Combined/strategic authorities</th>        <th class=\"col_heading level0 col2\" >County councils</th>        <th class=\"col_heading level0 col3\" >District councils</th>        <th class=\"col_heading level0 col4\" >Northern Ireland</th>        <th class=\"col_heading level0 col5\" >Single tier</th>    </tr></thead><tbody>\n",
       "                <tr>\n",
       "                                <td id=\"T_a38d1_row0_col0\" class=\"data row0 col0\" >City corporation</td>\n",
       "                        <td id=\"T_a38d1_row0_col1\" class=\"data row0 col1\" >0</td>\n",
       "                        <td id=\"T_a38d1_row0_col2\" class=\"data row0 col2\" >0</td>\n",
       "                        <td id=\"T_a38d1_row0_col3\" class=\"data row0 col3\" >0</td>\n",
       "                        <td id=\"T_a38d1_row0_col4\" class=\"data row0 col4\" >0</td>\n",
       "                        <td id=\"T_a38d1_row0_col5\" class=\"data row0 col5\" >1</td>\n",
       "            </tr>\n",
       "            <tr>\n",
       "                                <td id=\"T_a38d1_row1_col0\" class=\"data row1 col0\" >Combined authority</td>\n",
       "                        <td id=\"T_a38d1_row1_col1\" class=\"data row1 col1\" >10</td>\n",
       "                        <td id=\"T_a38d1_row1_col2\" class=\"data row1 col2\" >0</td>\n",
       "                        <td id=\"T_a38d1_row1_col3\" class=\"data row1 col3\" >0</td>\n",
       "                        <td id=\"T_a38d1_row1_col4\" class=\"data row1 col4\" >0</td>\n",
       "                        <td id=\"T_a38d1_row1_col5\" class=\"data row1 col5\" >0</td>\n",
       "            </tr>\n",
       "            <tr>\n",
       "                                <td id=\"T_a38d1_row2_col0\" class=\"data row2 col0\" >County</td>\n",
       "                        <td id=\"T_a38d1_row2_col1\" class=\"data row2 col1\" >0</td>\n",
       "                        <td id=\"T_a38d1_row2_col2\" class=\"data row2 col2\" >24</td>\n",
       "                        <td id=\"T_a38d1_row2_col3\" class=\"data row2 col3\" >0</td>\n",
       "                        <td id=\"T_a38d1_row2_col4\" class=\"data row2 col4\" >0</td>\n",
       "                        <td id=\"T_a38d1_row2_col5\" class=\"data row2 col5\" >0</td>\n",
       "            </tr>\n",
       "            <tr>\n",
       "                                <td id=\"T_a38d1_row3_col0\" class=\"data row3 col0\" >London borough</td>\n",
       "                        <td id=\"T_a38d1_row3_col1\" class=\"data row3 col1\" >0</td>\n",
       "                        <td id=\"T_a38d1_row3_col2\" class=\"data row3 col2\" >0</td>\n",
       "                        <td id=\"T_a38d1_row3_col3\" class=\"data row3 col3\" >0</td>\n",
       "                        <td id=\"T_a38d1_row3_col4\" class=\"data row3 col4\" >0</td>\n",
       "                        <td id=\"T_a38d1_row3_col5\" class=\"data row3 col5\" >32</td>\n",
       "            </tr>\n",
       "            <tr>\n",
       "                                <td id=\"T_a38d1_row4_col0\" class=\"data row4 col0\" >Metropolitan district</td>\n",
       "                        <td id=\"T_a38d1_row4_col1\" class=\"data row4 col1\" >0</td>\n",
       "                        <td id=\"T_a38d1_row4_col2\" class=\"data row4 col2\" >0</td>\n",
       "                        <td id=\"T_a38d1_row4_col3\" class=\"data row4 col3\" >0</td>\n",
       "                        <td id=\"T_a38d1_row4_col4\" class=\"data row4 col4\" >0</td>\n",
       "                        <td id=\"T_a38d1_row4_col5\" class=\"data row4 col5\" >36</td>\n",
       "            </tr>\n",
       "            <tr>\n",
       "                                <td id=\"T_a38d1_row5_col0\" class=\"data row5 col0\" >NI district</td>\n",
       "                        <td id=\"T_a38d1_row5_col1\" class=\"data row5 col1\" >0</td>\n",
       "                        <td id=\"T_a38d1_row5_col2\" class=\"data row5 col2\" >0</td>\n",
       "                        <td id=\"T_a38d1_row5_col3\" class=\"data row5 col3\" >0</td>\n",
       "                        <td id=\"T_a38d1_row5_col4\" class=\"data row5 col4\" >11</td>\n",
       "                        <td id=\"T_a38d1_row5_col5\" class=\"data row5 col5\" >0</td>\n",
       "            </tr>\n",
       "            <tr>\n",
       "                                <td id=\"T_a38d1_row6_col0\" class=\"data row6 col0\" >Non-metropolitan district</td>\n",
       "                        <td id=\"T_a38d1_row6_col1\" class=\"data row6 col1\" >0</td>\n",
       "                        <td id=\"T_a38d1_row6_col2\" class=\"data row6 col2\" >0</td>\n",
       "                        <td id=\"T_a38d1_row6_col3\" class=\"data row6 col3\" >181</td>\n",
       "                        <td id=\"T_a38d1_row6_col4\" class=\"data row6 col4\" >0</td>\n",
       "                        <td id=\"T_a38d1_row6_col5\" class=\"data row6 col5\" >0</td>\n",
       "            </tr>\n",
       "            <tr>\n",
       "                                <td id=\"T_a38d1_row7_col0\" class=\"data row7 col0\" >Scottish unitary authority</td>\n",
       "                        <td id=\"T_a38d1_row7_col1\" class=\"data row7 col1\" >0</td>\n",
       "                        <td id=\"T_a38d1_row7_col2\" class=\"data row7 col2\" >0</td>\n",
       "                        <td id=\"T_a38d1_row7_col3\" class=\"data row7 col3\" >0</td>\n",
       "                        <td id=\"T_a38d1_row7_col4\" class=\"data row7 col4\" >0</td>\n",
       "                        <td id=\"T_a38d1_row7_col5\" class=\"data row7 col5\" >32</td>\n",
       "            </tr>\n",
       "            <tr>\n",
       "                                <td id=\"T_a38d1_row8_col0\" class=\"data row8 col0\" >Strategic Regional Authority</td>\n",
       "                        <td id=\"T_a38d1_row8_col1\" class=\"data row8 col1\" >1</td>\n",
       "                        <td id=\"T_a38d1_row8_col2\" class=\"data row8 col2\" >0</td>\n",
       "                        <td id=\"T_a38d1_row8_col3\" class=\"data row8 col3\" >0</td>\n",
       "                        <td id=\"T_a38d1_row8_col4\" class=\"data row8 col4\" >0</td>\n",
       "                        <td id=\"T_a38d1_row8_col5\" class=\"data row8 col5\" >0</td>\n",
       "            </tr>\n",
       "            <tr>\n",
       "                                <td id=\"T_a38d1_row9_col0\" class=\"data row9 col0\" >Unitary authority</td>\n",
       "                        <td id=\"T_a38d1_row9_col1\" class=\"data row9 col1\" >0</td>\n",
       "                        <td id=\"T_a38d1_row9_col2\" class=\"data row9 col2\" >0</td>\n",
       "                        <td id=\"T_a38d1_row9_col3\" class=\"data row9 col3\" >0</td>\n",
       "                        <td id=\"T_a38d1_row9_col4\" class=\"data row9 col4\" >0</td>\n",
       "                        <td id=\"T_a38d1_row9_col5\" class=\"data row9 col5\" >59</td>\n",
       "            </tr>\n",
       "            <tr>\n",
       "                                <td id=\"T_a38d1_row10_col0\" class=\"data row10 col0\" >Welsh unitary authority</td>\n",
       "                        <td id=\"T_a38d1_row10_col1\" class=\"data row10 col1\" >0</td>\n",
       "                        <td id=\"T_a38d1_row10_col2\" class=\"data row10 col2\" >0</td>\n",
       "                        <td id=\"T_a38d1_row10_col3\" class=\"data row10 col3\" >0</td>\n",
       "                        <td id=\"T_a38d1_row10_col4\" class=\"data row10 col4\" >0</td>\n",
       "                        <td id=\"T_a38d1_row10_col5\" class=\"data row10 col5\" >22</td>\n",
       "            </tr>\n",
       "    </tbody></table>"
      ],
      "text/plain": [
       "<pandas.io.formats.style.Styler at 0x7f5e36dce790>"
      ]
     },
     "execution_count": 5,
     "metadata": {},
     "output_type": "execute_result"
    }
   ],
   "source": [
    "(df\n",
    ".pivot_table(\"local-authority-code\", index=\"local-authority-type-name\", columns=\"league-group\",aggfunc=\"count\")\n",
    ".fillna(0)\n",
    ".astype(int)\n",
    ".rename_axis(None, axis='columns')\n",
    ".rename_axis(\"Authority type\", axis='rows')\n",
    ".reset_index()\n",
    ".style.hide_index())"
   ]
  },
  {
   "cell_type": "markdown",
   "metadata": {},
   "source": [
    "Analysis: The single tier and combined/stragic authorities both contain multiple authority types and should use an extra filter."
   ]
  },
  {
   "cell_type": "code",
   "execution_count": 6,
   "metadata": {},
   "outputs": [],
   "source": [
    "# export this data\n",
    "cols = [\"local-authority-code\",\"official-name\", \"league-group\", \"region\", \"local-authority-type-name\"]\n",
    "df[cols].to_csv(Path(\"data\", \"outputs\", \"region_type.csv\"), index=False)"
   ]
  }
 ],
 "metadata": {
  "interpreter": {
   "hash": "949777d72b0d2535278d3dc13498b2535136f6dfe0678499012e853ee9abcab1"
  },
  "kernelspec": {
   "display_name": "Python 3.8.12 64-bit",
   "language": "python",
   "name": "python3"
  },
  "language_info": {
   "codemirror_mode": {
    "name": "ipython",
    "version": 3
   },
   "file_extension": ".py",
   "mimetype": "text/x-python",
   "name": "python",
   "nbconvert_exporter": "python",
   "pygments_lexer": "ipython3",
   "version": "3.8.12"
  },
  "orig_nbformat": 4
 },
 "nbformat": 4,
 "nbformat_minor": 2
}
