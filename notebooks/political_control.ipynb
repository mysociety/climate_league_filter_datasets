{
 "cells": [
  {
   "cell_type": "code",
   "execution_count": 1,
   "metadata": {},
   "outputs": [],
   "source": [
    "#HIDE\n",
    "try:\n",
    "    import setup\n",
    "except:\n",
    "    pass\n",
    "from notebook_helper import *\n",
    "notebook_setup()\n",
    "from modules.la import get_la_df, get_la_with_leagues"
   ]
  },
  {
   "cell_type": "markdown",
   "metadata": {},
   "source": [
    "## Political control\n",
    "\n",
    "This uses data from http://opencouncildata.co.uk/downloads.php to get the overal control and the current coalition for Uk councils, mapped against out groupings and leagues. "
   ]
  },
  {
   "cell_type": "code",
   "execution_count": 2,
   "metadata": {},
   "outputs": [],
   "source": [
    "cdf = pd.read_csv(Path(\"data\", \"source\", \"opencouncildata_councils.csv\"))\n",
    "cdf[\"name\"] = cdf[\"name\"].str.replace(\" CC\",\"\").str.strip()\n",
    "cdf = cdf.la.create_code_column(source_col=\"name\")\n",
    "cdf = cdf.set_index(\"local-authority-code\")\n",
    "cdf = cdf[[\"majority\", \"coalition\"]]"
   ]
  },
  {
   "cell_type": "code",
   "execution_count": 3,
   "metadata": {},
   "outputs": [],
   "source": [
    "\n",
    "# match for new Northamptonshire councils\n",
    "adf = pd.DataFrame([[\"WNT\", \"CON\", \"CON\"], [\"NNT\", \"CON\", \"CON\"]],\n",
    "                   columns=[\"local-authority-code\", \"majority\", \"coaliton\"]).set_index(\"local-authority-code\")\n",
    "\n",
    "cdf = pd.concat([cdf, adf])\n"
   ]
  },
  {
   "cell_type": "code",
   "execution_count": 4,
   "metadata": {},
   "outputs": [],
   "source": [
    "df = (get_la_with_leagues()\n",
    "      .set_index(\"local-authority-code\")\n",
    "      .join(cdf, how=\"outer\")\n",
    "      .reset_index())\n"
   ]
  },
  {
   "cell_type": "code",
   "execution_count": 5,
   "metadata": {},
   "outputs": [
    {
     "data": {
      "text/html": [
       "<div>\n",
       "<style scoped>\n",
       "    .dataframe tbody tr th:only-of-type {\n",
       "        vertical-align: middle;\n",
       "    }\n",
       "\n",
       "    .dataframe tbody tr th {\n",
       "        vertical-align: top;\n",
       "    }\n",
       "\n",
       "    .dataframe thead th {\n",
       "        text-align: right;\n",
       "    }\n",
       "</style>\n",
       "<table border=\"1\" class=\"dataframe\">\n",
       "  <thead>\n",
       "    <tr style=\"text-align: right;\">\n",
       "      <th>league-group</th>\n",
       "      <th>County councils</th>\n",
       "      <th>District councils</th>\n",
       "      <th>Northern Ireland</th>\n",
       "      <th>Single tier</th>\n",
       "    </tr>\n",
       "    <tr>\n",
       "      <th>majority</th>\n",
       "      <th></th>\n",
       "      <th></th>\n",
       "      <th></th>\n",
       "      <th></th>\n",
       "    </tr>\n",
       "  </thead>\n",
       "  <tbody>\n",
       "    <tr>\n",
       "      <th>CON</th>\n",
       "      <td>21.0</td>\n",
       "      <td>89.0</td>\n",
       "      <td>0.0</td>\n",
       "      <td>33.0</td>\n",
       "    </tr>\n",
       "    <tr>\n",
       "      <th>IND</th>\n",
       "      <td>0.0</td>\n",
       "      <td>4.0</td>\n",
       "      <td>0.0</td>\n",
       "      <td>7.0</td>\n",
       "    </tr>\n",
       "    <tr>\n",
       "      <th>LAB</th>\n",
       "      <td>0.0</td>\n",
       "      <td>18.0</td>\n",
       "      <td>0.0</td>\n",
       "      <td>66.0</td>\n",
       "    </tr>\n",
       "    <tr>\n",
       "      <th>LD</th>\n",
       "      <td>0.0</td>\n",
       "      <td>21.0</td>\n",
       "      <td>0.0</td>\n",
       "      <td>4.0</td>\n",
       "    </tr>\n",
       "    <tr>\n",
       "      <th>NOC</th>\n",
       "      <td>3.0</td>\n",
       "      <td>49.0</td>\n",
       "      <td>11.0</td>\n",
       "      <td>71.0</td>\n",
       "    </tr>\n",
       "    <tr>\n",
       "      <th>PC</th>\n",
       "      <td>0.0</td>\n",
       "      <td>0.0</td>\n",
       "      <td>0.0</td>\n",
       "      <td>1.0</td>\n",
       "    </tr>\n",
       "  </tbody>\n",
       "</table>\n",
       "</div>"
      ],
      "text/plain": [
       "league-group  County councils  District councils  Northern Ireland  \\\n",
       "majority                                                             \n",
       "CON                      21.0               89.0               0.0   \n",
       "IND                       0.0                4.0               0.0   \n",
       "LAB                       0.0               18.0               0.0   \n",
       "LD                        0.0               21.0               0.0   \n",
       "NOC                       3.0               49.0              11.0   \n",
       "PC                        0.0                0.0               0.0   \n",
       "\n",
       "league-group  Single tier  \n",
       "majority                   \n",
       "CON                  33.0  \n",
       "IND                   7.0  \n",
       "LAB                  66.0  \n",
       "LD                    4.0  \n",
       "NOC                  71.0  \n",
       "PC                    1.0  "
      ]
     },
     "execution_count": 5,
     "metadata": {},
     "output_type": "execute_result"
    }
   ],
   "source": [
    "df.pivot_table(\"local-authority-code\", index=\"majority\", columns=\"league-group\", aggfunc=\"count\").fillna(0)\n"
   ]
  },
  {
   "cell_type": "markdown",
   "metadata": {},
   "source": [
    "This source does not have information for combined authorities, and there's not many of them, so we'll ignore those.\n",
    "\n",
    "Similarly, given the low number of NI with plans, we'll ignore political control in NI. \n",
    "\n",
    "This means political control will be avaliable for 'County councils', 'District councils' and 'Single tier'.\n",
    "\n",
    "Reviewing the caolition information, there is too much information avalaible to put it in an easy drop down. "
   ]
  },
  {
   "cell_type": "code",
   "execution_count": 6,
   "metadata": {},
   "outputs": [
    {
     "data": {
      "text/html": [
       "<div>\n",
       "<style scoped>\n",
       "    .dataframe tbody tr th:only-of-type {\n",
       "        vertical-align: middle;\n",
       "    }\n",
       "\n",
       "    .dataframe tbody tr th {\n",
       "        vertical-align: top;\n",
       "    }\n",
       "\n",
       "    .dataframe thead th {\n",
       "        text-align: right;\n",
       "    }\n",
       "</style>\n",
       "<table border=\"1\" class=\"dataframe\">\n",
       "  <thead>\n",
       "    <tr style=\"text-align: right;\">\n",
       "      <th>league-group</th>\n",
       "      <th>County councils</th>\n",
       "      <th>District councils</th>\n",
       "      <th>Single tier</th>\n",
       "    </tr>\n",
       "    <tr>\n",
       "      <th>majority</th>\n",
       "      <th></th>\n",
       "      <th></th>\n",
       "      <th></th>\n",
       "    </tr>\n",
       "  </thead>\n",
       "  <tbody>\n",
       "    <tr>\n",
       "      <th>Coalition/Minority</th>\n",
       "      <td>3.0</td>\n",
       "      <td>49.0</td>\n",
       "      <td>71.0</td>\n",
       "    </tr>\n",
       "    <tr>\n",
       "      <th>Conservative</th>\n",
       "      <td>21.0</td>\n",
       "      <td>89.0</td>\n",
       "      <td>33.0</td>\n",
       "    </tr>\n",
       "    <tr>\n",
       "      <th>Independent</th>\n",
       "      <td>0.0</td>\n",
       "      <td>4.0</td>\n",
       "      <td>7.0</td>\n",
       "    </tr>\n",
       "    <tr>\n",
       "      <th>Labour</th>\n",
       "      <td>0.0</td>\n",
       "      <td>18.0</td>\n",
       "      <td>66.0</td>\n",
       "    </tr>\n",
       "    <tr>\n",
       "      <th>Liberal Democrat</th>\n",
       "      <td>0.0</td>\n",
       "      <td>21.0</td>\n",
       "      <td>4.0</td>\n",
       "    </tr>\n",
       "    <tr>\n",
       "      <th>Plaid Cymru</th>\n",
       "      <td>0.0</td>\n",
       "      <td>0.0</td>\n",
       "      <td>1.0</td>\n",
       "    </tr>\n",
       "  </tbody>\n",
       "</table>\n",
       "</div>"
      ],
      "text/plain": [
       "league-group        County councils  District councils  Single tier\n",
       "majority                                                           \n",
       "Coalition/Minority              3.0               49.0         71.0\n",
       "Conservative                   21.0               89.0         33.0\n",
       "Independent                     0.0                4.0          7.0\n",
       "Labour                          0.0               18.0         66.0\n",
       "Liberal Democrat                0.0               21.0          4.0\n",
       "Plaid Cymru                     0.0                0.0          1.0"
      ]
     },
     "execution_count": 6,
     "metadata": {},
     "output_type": "execute_result"
    }
   ],
   "source": [
    "mask = df[\"league-group\"].isin([\"County councils\",\n",
    "                               \"District councils\", \"Single tier\"])\n",
    "df = df[mask]\n",
    "df[\"majority\"] = df[\"majority\"].map({\"CON\": \"Conservative\",\n",
    "                                     \"IND\": \"Independent\",\n",
    "                                     \"LAB\": \"Labour\",\n",
    "                                     \"LD\": \"Liberal Democrat\",\n",
    "                                     \"NOC\": \"Coalition/Minority\",\n",
    "                                     \"PC\": \"Plaid Cymru\"})\n",
    "\n",
    "df.pivot_table(\"local-authority-code\", index=\"majority\",\n",
    "               columns=\"league-group\", aggfunc=\"count\").fillna(0)\n"
   ]
  },
  {
   "cell_type": "code",
   "execution_count": 8,
   "metadata": {},
   "outputs": [],
   "source": [
    "# export this data\n",
    "df = df.rename(columns={\"majority\":\"political_control\"})\n",
    "cols = [\"local-authority-code\",\"official-name\", \"league-group\", \"political_control\"]\n",
    "df[cols].to_csv(Path(\"data\", \"outputs\", \"political_control.csv\"), index=False)"
   ]
  }
 ],
 "metadata": {
  "interpreter": {
   "hash": "949777d72b0d2535278d3dc13498b2535136f6dfe0678499012e853ee9abcab1"
  },
  "kernelspec": {
   "display_name": "Python 3.8.12 64-bit",
   "language": "python",
   "name": "python3"
  },
  "language_info": {
   "codemirror_mode": {
    "name": "ipython",
    "version": 3
   },
   "file_extension": ".py",
   "mimetype": "text/x-python",
   "name": "python",
   "nbconvert_exporter": "python",
   "pygments_lexer": "ipython3",
   "version": "3.8.12"
  },
  "orig_nbformat": 4
 },
 "nbformat": 4,
 "nbformat_minor": 2
}
